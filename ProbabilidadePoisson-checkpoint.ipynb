{
 "cells": [
  {
   "cell_type": "code",
   "execution_count": 1,
   "id": "d90a5be6",
   "metadata": {},
   "outputs": [],
   "source": [
    "#o número médio de carros vendidos por dia é 10. Qual é a probabilidade de vender 14 carros amanhã?\n"
   ]
  },
  {
   "cell_type": "code",
   "execution_count": 2,
   "id": "a07f9aa3",
   "metadata": {},
   "outputs": [],
   "source": [
    "x = 14\n",
    "media = 10\n",
    "import math"
   ]
  },
  {
   "cell_type": "code",
   "execution_count": 3,
   "id": "5b1bb05a",
   "metadata": {},
   "outputs": [
    {
     "data": {
      "text/plain": [
       "2.718281828459045"
      ]
     },
     "execution_count": 3,
     "metadata": {},
     "output_type": "execute_result"
    }
   ],
   "source": [
    "math.e"
   ]
  },
  {
   "cell_type": "code",
   "execution_count": 5,
   "id": "5117bcc7",
   "metadata": {},
   "outputs": [
    {
     "data": {
      "text/plain": [
       "5.207710444602621"
      ]
     },
     "execution_count": 5,
     "metadata": {},
     "output_type": "execute_result"
    }
   ],
   "source": [
    "math.pow(math.e, -media)* (math.pow(media,x)/ math.factorial(x)) * 100"
   ]
  },
  {
   "cell_type": "code",
   "execution_count": 9,
   "id": "e859a958",
   "metadata": {},
   "outputs": [
    {
     "data": {
      "text/plain": [
       "5.207710444602616"
      ]
     },
     "execution_count": 9,
     "metadata": {},
     "output_type": "execute_result"
    }
   ],
   "source": [
    "import scipy.stats\n",
    "from scipy import stats\n",
    "stats.poisson.pmf(x,media) * 100"
   ]
  },
  {
   "cell_type": "code",
   "execution_count": null,
   "id": "70f3b383",
   "metadata": {},
   "outputs": [],
   "source": []
  }
 ],
 "metadata": {
  "kernelspec": {
   "display_name": "Python 3 (ipykernel)",
   "language": "python",
   "name": "python3"
  },
  "language_info": {
   "codemirror_mode": {
    "name": "ipython",
    "version": 3
   },
   "file_extension": ".py",
   "mimetype": "text/x-python",
   "name": "python",
   "nbconvert_exporter": "python",
   "pygments_lexer": "ipython3",
   "version": "3.9.13"
  }
 },
 "nbformat": 4,
 "nbformat_minor": 5
}
