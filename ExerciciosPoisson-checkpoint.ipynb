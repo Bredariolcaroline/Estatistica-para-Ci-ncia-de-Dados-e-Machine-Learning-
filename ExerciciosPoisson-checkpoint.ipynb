{
 "cells": [
  {
   "cell_type": "code",
   "execution_count": 1,
   "id": "d4b94922",
   "metadata": {},
   "outputs": [],
   "source": [
    "#em uma linha de produção de uma fábrica de parafusos, a probabilidade é de obter 0,05\n",
    "#defeitos por UNIDADE. Qual a probabilidade de uma unidade apresentar:\n",
    "#um defeito"
   ]
  },
  {
   "cell_type": "code",
   "execution_count": 2,
   "id": "8ff1c8c3",
   "metadata": {},
   "outputs": [],
   "source": [
    "x = 1\n",
    "media = 0.05"
   ]
  },
  {
   "cell_type": "code",
   "execution_count": 3,
   "id": "b97332c4",
   "metadata": {},
   "outputs": [],
   "source": [
    "import scipy.stats\n",
    "from scipy import stats"
   ]
  },
  {
   "cell_type": "code",
   "execution_count": 5,
   "id": "6a3b2742",
   "metadata": {},
   "outputs": [
    {
     "data": {
      "text/plain": [
       "4.756147122503571"
      ]
     },
     "execution_count": 5,
     "metadata": {},
     "output_type": "execute_result"
    }
   ],
   "source": [
    "stats.poisson.pmf(x, media)* 100"
   ]
  },
  {
   "cell_type": "code",
   "execution_count": 7,
   "id": "4e16dd4f",
   "metadata": {},
   "outputs": [
    {
     "data": {
      "text/plain": [
       "95.1229424500714"
      ]
     },
     "execution_count": 7,
     "metadata": {},
     "output_type": "execute_result"
    }
   ],
   "source": [
    "#Nenhum defeito\n",
    "x = 0\n",
    "media = 0.05\n",
    "stats.poisson.pmf(x,media)* 100"
   ]
  },
  {
   "cell_type": "code",
   "execution_count": 9,
   "id": "5bffec94",
   "metadata": {},
   "outputs": [
    {
     "data": {
      "text/plain": [
       "5.02278606240605e-16"
      ]
     },
     "execution_count": 9,
     "metadata": {},
     "output_type": "execute_result"
    }
   ],
   "source": [
    "#um vendedor de loja vende em média 50 produtos por dia. \n",
    "#Qual a probabilidade de vender somente 5 produtos no próximo dia?\n",
    "\n",
    "x = 5\n",
    "media = 50\n",
    "\n",
    "stats.poisson.pmf(x, media) "
   ]
  },
  {
   "cell_type": "code",
   "execution_count": null,
   "id": "2e299409",
   "metadata": {},
   "outputs": [],
   "source": []
  }
 ],
 "metadata": {
  "kernelspec": {
   "display_name": "Python 3 (ipykernel)",
   "language": "python",
   "name": "python3"
  },
  "language_info": {
   "codemirror_mode": {
    "name": "ipython",
    "version": 3
   },
   "file_extension": ".py",
   "mimetype": "text/x-python",
   "name": "python",
   "nbconvert_exporter": "python",
   "pygments_lexer": "ipython3",
   "version": "3.9.13"
  }
 },
 "nbformat": 4,
 "nbformat_minor": 5
}
