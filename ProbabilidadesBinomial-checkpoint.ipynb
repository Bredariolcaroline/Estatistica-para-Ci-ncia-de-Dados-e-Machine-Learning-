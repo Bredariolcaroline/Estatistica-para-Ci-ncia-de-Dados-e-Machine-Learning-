{
 "cells": [
  {
   "cell_type": "code",
   "execution_count": 1,
   "id": "04031451",
   "metadata": {},
   "outputs": [],
   "source": [
    "#Jogando a moeda 10 vezes, qual a probabilidade ode obter 5 caras?\n",
    "n = 10\n",
    "x = 5\n",
    "p = 0.5\n",
    "\n"
   ]
  },
  {
   "cell_type": "code",
   "execution_count": 2,
   "id": "3cd5c8a2",
   "metadata": {},
   "outputs": [],
   "source": [
    "import math"
   ]
  },
  {
   "cell_type": "code",
   "execution_count": 3,
   "id": "29acb667",
   "metadata": {},
   "outputs": [
    {
     "data": {
      "text/plain": [
       "0.24609375"
      ]
     },
     "execution_count": 3,
     "metadata": {},
     "output_type": "execute_result"
    }
   ],
   "source": [
    "(math.factorial(n))/(math.factorial(x)* math.factorial(n-x)) * math.pow(p,x)* math.pow(1-p,n-x)"
   ]
  },
  {
   "cell_type": "code",
   "execution_count": 4,
   "id": "e5e9322d",
   "metadata": {},
   "outputs": [],
   "source": [
    "import scipy.stats"
   ]
  },
  {
   "cell_type": "code",
   "execution_count": 5,
   "id": "6ac0f4c6",
   "metadata": {},
   "outputs": [],
   "source": [
    "from scipy import stats"
   ]
  },
  {
   "cell_type": "code",
   "execution_count": 6,
   "id": "e488d9f4",
   "metadata": {},
   "outputs": [
    {
     "data": {
      "text/plain": [
       "0.24609375000000003"
      ]
     },
     "execution_count": 6,
     "metadata": {},
     "output_type": "execute_result"
    }
   ],
   "source": [
    "stats.binom.pmf(x, n, p)"
   ]
  },
  {
   "cell_type": "code",
   "execution_count": 8,
   "id": "ca50dadf",
   "metadata": {},
   "outputs": [],
   "source": [
    "#70% das pessoas que compraram o livro de Python são mulheres. Se 10 leitores forem selecionados aleatoriamente,\n",
    "#qual a probabilidade de selecionarmos 7 mulheres?"
   ]
  },
  {
   "cell_type": "code",
   "execution_count": 9,
   "id": "4e1d8d26",
   "metadata": {},
   "outputs": [],
   "source": [
    "n = 10\n",
    "x = 7\n",
    "p = 0.7"
   ]
  },
  {
   "cell_type": "code",
   "execution_count": 10,
   "id": "ef581a86",
   "metadata": {},
   "outputs": [
    {
     "data": {
      "text/plain": [
       "0.26682793200000005"
      ]
     },
     "execution_count": 10,
     "metadata": {},
     "output_type": "execute_result"
    }
   ],
   "source": [
    "stats.binom.pmf(x,n,p)"
   ]
  },
  {
   "cell_type": "code",
   "execution_count": 11,
   "id": "ace3a0f6",
   "metadata": {},
   "outputs": [],
   "source": [
    "#Exercício 2\n",
    "#Em uma linha de produção de uma fábrica de parafusos, a probabilidade de obter um parafuso defeituoso é 0,05. \n",
    "#Tendo uma amostra de 5o peças, qual a probabilidade de obter:\n",
    "# um parafuso defeituoso\n",
    "\n",
    "n = 50\n",
    "p = 0.05\n",
    "x = 1\n",
    "\n"
   ]
  },
  {
   "cell_type": "code",
   "execution_count": 12,
   "id": "9769c967",
   "metadata": {},
   "outputs": [
    {
     "data": {
      "text/plain": [
       "0.2024867770439825"
      ]
     },
     "execution_count": 12,
     "metadata": {},
     "output_type": "execute_result"
    }
   ],
   "source": [
    "stats.binom.pmf(x, n, p)"
   ]
  },
  {
   "cell_type": "code",
   "execution_count": 13,
   "id": "7452d7fe",
   "metadata": {},
   "outputs": [
    {
     "data": {
      "text/plain": [
       "0.07694497527671315"
      ]
     },
     "execution_count": 13,
     "metadata": {},
     "output_type": "execute_result"
    }
   ],
   "source": [
    "#nenhum parafuso defeituoso\n",
    "n = 50\n",
    "p = 0.05\n",
    "x = 0\n",
    "\n",
    "stats.binom.pmf(x,n,p)"
   ]
  },
  {
   "cell_type": "code",
   "execution_count": null,
   "id": "939495da",
   "metadata": {},
   "outputs": [],
   "source": []
  }
 ],
 "metadata": {
  "kernelspec": {
   "display_name": "Python 3 (ipykernel)",
   "language": "python",
   "name": "python3"
  },
  "language_info": {
   "codemirror_mode": {
    "name": "ipython",
    "version": 3
   },
   "file_extension": ".py",
   "mimetype": "text/x-python",
   "name": "python",
   "nbconvert_exporter": "python",
   "pygments_lexer": "ipython3",
   "version": "3.9.13"
  }
 },
 "nbformat": 4,
 "nbformat_minor": 5
}
