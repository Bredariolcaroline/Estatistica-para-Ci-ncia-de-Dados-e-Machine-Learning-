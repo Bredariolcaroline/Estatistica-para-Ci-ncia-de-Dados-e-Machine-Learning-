{
 "cells": [
  {
   "cell_type": "code",
   "execution_count": 1,
   "id": "e11ce77f",
   "metadata": {},
   "outputs": [],
   "source": [
    "from scipy.stats import chi2_contingency"
   ]
  },
  {
   "cell_type": "code",
   "execution_count": 11,
   "id": "faa10b56",
   "metadata": {},
   "outputs": [],
   "source": [
    "import numpy as np\n",
    "#tabela = np.array([[30,20],[22,28]])\n",
    "tabela = np.array([[45,5],[5,45]])"
   ]
  },
  {
   "cell_type": "code",
   "execution_count": 12,
   "id": "605cb87b",
   "metadata": {},
   "outputs": [
    {
     "data": {
      "text/plain": [
       "(2, 2)"
      ]
     },
     "execution_count": 12,
     "metadata": {},
     "output_type": "execute_result"
    }
   ],
   "source": [
    "tabela.shape"
   ]
  },
  {
   "cell_type": "code",
   "execution_count": 13,
   "id": "7c29b718",
   "metadata": {},
   "outputs": [
    {
     "data": {
      "text/plain": [
       "(60.84,\n",
       " 6.190717543917382e-15,\n",
       " 1,\n",
       " array([[25., 25.],\n",
       "        [25., 25.]]))"
      ]
     },
     "execution_count": 13,
     "metadata": {},
     "output_type": "execute_result"
    }
   ],
   "source": [
    "chi2_contingency(tabela)"
   ]
  },
  {
   "cell_type": "code",
   "execution_count": 14,
   "id": "a7ae24eb",
   "metadata": {},
   "outputs": [
    {
     "data": {
      "text/plain": [
       "6.190717543917382e-15"
      ]
     },
     "execution_count": 14,
     "metadata": {},
     "output_type": "execute_result"
    }
   ],
   "source": [
    "_, p, _, _ = chi2_contingency(tabela)\n",
    "p"
   ]
  },
  {
   "cell_type": "code",
   "execution_count": 15,
   "id": "7afb9c92",
   "metadata": {},
   "outputs": [
    {
     "name": "stdout",
     "output_type": "stream",
     "text": [
      "hipótese nula rejeitada\n"
     ]
    }
   ],
   "source": [
    "alpha = 0.05\n",
    "if p <= alpha:\n",
    "    print('hipótese nula rejeitada')\n",
    "else:\n",
    "    print('Hipótese alternativa rejeitada')"
   ]
  },
  {
   "cell_type": "code",
   "execution_count": null,
   "id": "7674afa8",
   "metadata": {},
   "outputs": [],
   "source": []
  }
 ],
 "metadata": {
  "kernelspec": {
   "display_name": "Python 3 (ipykernel)",
   "language": "python",
   "name": "python3"
  },
  "language_info": {
   "codemirror_mode": {
    "name": "ipython",
    "version": 3
   },
   "file_extension": ".py",
   "mimetype": "text/x-python",
   "name": "python",
   "nbconvert_exporter": "python",
   "pygments_lexer": "ipython3",
   "version": "3.9.13"
  }
 },
 "nbformat": 4,
 "nbformat_minor": 5
}
