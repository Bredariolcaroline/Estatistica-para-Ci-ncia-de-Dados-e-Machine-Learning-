{
 "cells": [
  {
   "cell_type": "code",
   "execution_count": 1,
   "id": "20c7c66a",
   "metadata": {},
   "outputs": [],
   "source": [
    "import numpy as np"
   ]
  },
  {
   "cell_type": "code",
   "execution_count": 2,
   "id": "f35d28b1",
   "metadata": {},
   "outputs": [],
   "source": [
    "dados = np.array([126. , 129.5, 133. , 133. , 136.5, 136.5, 140. , 140. , 140. ,\n",
    "                  140. , 143.5, 143.5, 143.5, 143.5, 143.5, 143.5, 147. , 147. ,\n",
    "                  147. , 147. , 147. , 147. , 147. , 150.5, 150.5, 150.5, 150.5,\n",
    "                  150.5, 150.5, 150.5, 150.5, 154. , 154. , 154. , 154. , 154. ,\n",
    "                  154. , 154. , 154. , 154. , 157.5, 157.5, 157.5, 157.5, 157.5,\n",
    "                  157.5, 157.5, 157.5, 157.5, 157.5, 161. , 161. , 161. , 161. ,\n",
    "                  161. , 161. , 161. , 161. , 161. , 161. , 164.5, 164.5, 164.5,\n",
    "                  164.5, 164.5, 164.5, 164.5, 164.5, 164.5, 168. , 168. , 168. ,\n",
    "                  168. , 168. , 168. , 168. , 168. , 171.5, 171.5, 171.5, 171.5,\n",
    "                  171.5, 171.5, 171.5, 175. , 175. , 175. , 175. , 175. , 175. ,\n",
    "                  178.5, 178.5, 178.5, 178.5, 182. , 182. , 185.5, 185.5, 189., 192.5])"
   ]
  },
  {
   "cell_type": "code",
   "execution_count": 3,
   "id": "d3bcf3d3",
   "metadata": {},
   "outputs": [
    {
     "data": {
      "text/plain": [
       "159.25"
      ]
     },
     "execution_count": 3,
     "metadata": {},
     "output_type": "execute_result"
    }
   ],
   "source": [
    "np.mean(dados)"
   ]
  },
  {
   "cell_type": "code",
   "execution_count": 4,
   "id": "07047844",
   "metadata": {},
   "outputs": [
    {
     "data": {
      "text/plain": [
       "13.65"
      ]
     },
     "execution_count": 4,
     "metadata": {},
     "output_type": "execute_result"
    }
   ],
   "source": [
    "np.std(dados)"
   ]
  },
  {
   "cell_type": "code",
   "execution_count": 5,
   "id": "1e0ed542",
   "metadata": {},
   "outputs": [],
   "source": [
    "#Exercicio1\n",
    "#Uma empresa fez um concurso para seleção de novos funcionários. \n",
    "#A prova tinha 50 questões e o Pedro acdertou 40 questões.\n",
    "#Considerando uma distribuição normal com média 24 e std de 8, quais são as chances dele ser contratado?\n",
    "x = 40\n",
    "media = 24\n",
    "desvio_padrao = 8"
   ]
  },
  {
   "cell_type": "code",
   "execution_count": 6,
   "id": "62c0b484",
   "metadata": {},
   "outputs": [
    {
     "data": {
      "text/plain": [
       "2.0"
      ]
     },
     "execution_count": 6,
     "metadata": {},
     "output_type": "execute_result"
    }
   ],
   "source": [
    "padronizado = (x - media)/desvio_padrao\n",
    "padronizado\n",
    "#cessar tabela z score e ver qual valor de probabilidade o número encontrado indica"
   ]
  },
  {
   "cell_type": "code",
   "execution_count": 7,
   "id": "9805bd4e",
   "metadata": {},
   "outputs": [
    {
     "data": {
      "text/plain": [
       "0.97725"
      ]
     },
     "execution_count": 7,
     "metadata": {},
     "output_type": "execute_result"
    }
   ],
   "source": [
    "0.97725 \n",
    "#probabilidade de Pedro ser contratado\n"
   ]
  },
  {
   "cell_type": "code",
   "execution_count": 10,
   "id": "d7d78155",
   "metadata": {},
   "outputs": [],
   "source": [
    "import scipy.stats\n",
    "from scipy import stats"
   ]
  },
  {
   "cell_type": "code",
   "execution_count": 11,
   "id": "b79b69ef",
   "metadata": {},
   "outputs": [
    {
     "data": {
      "text/plain": [
       "0.9772498680518208"
      ]
     },
     "execution_count": 11,
     "metadata": {},
     "output_type": "execute_result"
    }
   ],
   "source": [
    "stats.norm.cdf(2.0)\n",
    "#probabilidade cumulativa"
   ]
  },
  {
   "cell_type": "code",
   "execution_count": 12,
   "id": "39a06535",
   "metadata": {},
   "outputs": [
    {
     "data": {
      "text/plain": [
       "2.0000000000000004"
      ]
     },
     "execution_count": 12,
     "metadata": {},
     "output_type": "execute_result"
    }
   ],
   "source": [
    "stats.norm.ppf(0.9772498680518208)\n",
    "#inverso do cdf, trabalha com a probabilidade e te dá o valor de Z"
   ]
  },
  {
   "cell_type": "code",
   "execution_count": 13,
   "id": "deffdf18",
   "metadata": {},
   "outputs": [
    {
     "data": {
      "text/plain": [
       "0.9772498680518208"
      ]
     },
     "execution_count": 13,
     "metadata": {},
     "output_type": "execute_result"
    }
   ],
   "source": [
    "stats.norm.cdf(x, media, desvio_padrao)\n"
   ]
  },
  {
   "cell_type": "code",
   "execution_count": 16,
   "id": "9f424ce3",
   "metadata": {},
   "outputs": [],
   "source": [
    "#Exercício 2\n",
    "#A vida útil de uma mmarca de pneus é representada por uma distribuição normal com média de 38.000km\n",
    " #e desvio padrão de 3.000km\n",
    "#Qual a probabilidade de que um pneu escolhido aleatoriamente tenha vida útil de \n",
    "#35.000mil km?\n",
    "#Qual a probabilidade de que ele dure mais do que 44.000km?"
   ]
  },
  {
   "cell_type": "code",
   "execution_count": 17,
   "id": "da3482d0",
   "metadata": {},
   "outputs": [
    {
     "data": {
      "text/plain": [
       "0.8413447460685429"
      ]
     },
     "execution_count": 17,
     "metadata": {},
     "output_type": "execute_result"
    }
   ],
   "source": [
    "1 - stats.norm.cdf(35000,38000,3000)"
   ]
  },
  {
   "cell_type": "code",
   "execution_count": 18,
   "id": "f85fd0ab",
   "metadata": {},
   "outputs": [
    {
     "data": {
      "text/plain": [
       "0.8413447460685429"
      ]
     },
     "execution_count": 18,
     "metadata": {},
     "output_type": "execute_result"
    }
   ],
   "source": [
    "stats.norm.sf(35000,38000,3000)"
   ]
  },
  {
   "cell_type": "code",
   "execution_count": 19,
   "id": "c5e3400c",
   "metadata": {},
   "outputs": [
    {
     "data": {
      "text/plain": [
       "2.2750131948179195"
      ]
     },
     "execution_count": 19,
     "metadata": {},
     "output_type": "execute_result"
    }
   ],
   "source": [
    "stats.norm.sf(44000,38000,3000)*100"
   ]
  },
  {
   "cell_type": "code",
   "execution_count": null,
   "id": "cff5abee",
   "metadata": {},
   "outputs": [],
   "source": []
  }
 ],
 "metadata": {
  "kernelspec": {
   "display_name": "Python 3 (ipykernel)",
   "language": "python",
   "name": "python3"
  },
  "language_info": {
   "codemirror_mode": {
    "name": "ipython",
    "version": 3
   },
   "file_extension": ".py",
   "mimetype": "text/x-python",
   "name": "python",
   "nbconvert_exporter": "python",
   "pygments_lexer": "ipython3",
   "version": "3.9.13"
  }
 },
 "nbformat": 4,
 "nbformat_minor": 5
}
